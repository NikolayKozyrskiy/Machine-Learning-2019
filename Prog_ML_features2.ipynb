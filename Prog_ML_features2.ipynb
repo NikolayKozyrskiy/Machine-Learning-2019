{
 "cells": [
  {
   "cell_type": "code",
   "execution_count": 1,
   "metadata": {},
   "outputs": [],
   "source": [
    "import numpy as np\n",
    "import pandas as pd\n",
    "from os import listdir\n",
    "import warnings\n",
    "warnings.filterwarnings('ignore')\n",
    "import matplotlib.pyplot as plt\n",
    "%matplotlib inline\n",
    "\n",
    "\n",
    "import numpy as np\n",
    "import pandas as pd\n",
    "import matplotlib.pyplot as plt\n",
    "\n",
    "from sklearn.model_selection import train_test_split\n",
    "from sklearn.decomposition import KernelPCA, PCA\n",
    "from sklearn.naive_bayes import GaussianNB\n",
    "from sklearn.model_selection import RepeatedKFold, cross_validate, StratifiedKFold, StratifiedShuffleSplit\n",
    "from sklearn.metrics import accuracy_score\n",
    "import torch\n",
    "from torch import nn\n",
    "import torch.nn.functional as F\n",
    "import torch.optim as optim\n",
    "from torch.utils.data import DataLoader, Dataset\n",
    "from torchvision import transforms, utils\n",
    "import operator\n",
    "import time\n",
    "import os\n",
    "from random import shuffle\n",
    "\n",
    "import random\n",
    "from tqdm import trange\n",
    "import PIL.Image as Image\n",
    "from IPython import display\n",
    "\n",
    "import warnings\n",
    "warnings.simplefilter(action='ignore')\n",
    "\n",
    "RANDOM_STATE = 42\n",
    "%matplotlib inline"
   ]
  },
  {
   "cell_type": "code",
   "execution_count": 31,
   "metadata": {},
   "outputs": [],
   "source": [
    "def make_hist_pupil(data,bins, min_diff):\n",
    "    data = data.dropna()\n",
    "    maximum = data['Pupil Area'].max()\n",
    "    print(maximum)\n",
    "    data['Pupil Area'] = data['Pupil Area'] / maximum\n",
    "    \n",
    "    data_video_DA = data.loc[data['Trial Name'] == 'DadsArmy']\n",
    "    data_video_DA.set_index(np.arange(data_video_DA.shape[0]))\n",
    "    \n",
    "    data_video_HB = data.loc[data['Trial Name'] == 'HistoryBoys']\n",
    "    data_video_HB.set_index(np.arange(data_video_HB.shape[0]))\n",
    "    \n",
    "    data_video_SC = data.loc[data['Trial Name'] == 'SkiCross']\n",
    "    data_video_SC.set_index(np.arange(data_video_SC.shape[0]))\n",
    "    \n",
    "    pupil_hist_DA = np.zeros(bins)\n",
    "    pupil_hist_HB = np.zeros(bins)\n",
    "    pupil_hist_SC = np.zeros(bins)\n",
    "    \n",
    "    for i in range(data_video_DA.shape[0]):\n",
    "        if data_video_DA['Pupil Area'].iloc[i] > min_diff:\n",
    "            pupil_hist_DA[int((data_video_DA['Pupil Area'].iloc[i] - min_diff)*(bins - 1)/(1 - min_diff))] += 1\n",
    "        \n",
    "    for i in range(data_video_HB.shape[0]):\n",
    "        if data_video_HB['Pupil Area'].iloc[i] > min_diff:\n",
    "            pupil_hist_HB[int((data_video_HB['Pupil Area'].iloc[i] - min_diff)*(bins - 1)/(1 - min_diff))] += 1        \n",
    "    \n",
    "    for i in range(data_video_SC.shape[0]):\n",
    "        if data_video_SC['Pupil Area'].iloc[i] > min_diff:\n",
    "            pupil_hist_SC[int((data_video_SC['Pupil Area'].iloc[i] - min_diff)*(bins - 1)/(1 - min_diff))] += 1    \n",
    "    \n",
    "    return pupil_hist_DA/data_video_DA.shape[0],pupil_hist_HB/data_video_HB.shape[0],pupil_hist_SC/data_video_SC.shape[0]\n"
   ]
  },
  {
   "cell_type": "code",
   "execution_count": 434,
   "metadata": {},
   "outputs": [
    {
     "data": {
      "text/plain": [
       "1.7777777777777777"
      ]
     },
     "execution_count": 434,
     "metadata": {},
     "output_type": "execute_result"
    }
   ],
   "source": [
    "16/9"
   ]
  },
  {
   "cell_type": "code",
   "execution_count": 544,
   "metadata": {},
   "outputs": [],
   "source": [
    "def make_density_map(data, min_saccade,n_rows,m_columns):\n",
    "    data = data.dropna()\n",
    "    size = 64\n",
    "    dn = 2*size//n_rows + 1\n",
    "    dm = 2*size//m_columns + 1\n",
    "    pixels_num_x = 1600//20.3*2\n",
    "    pixels_num_y = 1200//14.9*2\n",
    "    bound_y_max =  pixels_num_y*5\n",
    "    bound_y_min = - pixels_num_y*5\n",
    "    bound_x_max =  pixels_num_x*6\n",
    "    bound_x_min = - pixels_num_x*6    \n",
    "    mult_x = 12/(bound_x_max - bound_x_min)\n",
    "    mult_y = 10/(bound_y_max - bound_y_min)\n",
    "    data_video_DA = data.loc[data['Trial Name'] == 'DadsArmy']\n",
    "    data_video_DA.set_index(np.arange(data_video_DA.shape[0]))\n",
    "    \n",
    "    data_video_HB = data.loc[data['Trial Name'] == 'HistoryBoys']\n",
    "    data_video_HB.set_index(np.arange(data_video_HB.shape[0]))\n",
    "    \n",
    "    data_video_SC = data.loc[data['Trial Name'] == 'SkiCross']\n",
    "    data_video_SC.set_index(np.arange(data_video_SC.shape[0]))\n",
    "\n",
    "    den_map_DA =np.zeros((n_rows,m_columns))\n",
    "    den_map_HB =np.zeros((n_rows,m_columns))\n",
    "    den_map_SC =np.zeros((n_rows,m_columns))\n",
    "\n",
    "    for i in range(data_video_DA.shape[0]):\n",
    "        \n",
    "        if bound_x_min < data_video_DA['delta X'].iloc[i] < bound_x_max:\n",
    "            if bound_y_min < data_video_DA['delta Y'].iloc[i] < bound_y_max:\n",
    "                den_map_DA[4 + int(data_video_DA['delta Y'].iloc[i] * mult_y) ,5+ int(data_video_DA['delta X'].iloc[i]*mult_x)] += 1\n",
    "    \n",
    "    pixels_num_x = 1600//17.3*2\n",
    "    pixels_num_y = 900//10.6*2\n",
    "    bound_y_max =pixels_num_y*5\n",
    "    bound_y_min = - pixels_num_y*5\n",
    "    bound_x_max =  pixels_num_x*6\n",
    "    bound_x_min = - pixels_num_x*6 \n",
    "    mult_x = 12/(bound_x_max - bound_x_min)\n",
    "    mult_y = 10/(bound_y_max - bound_y_min)\n",
    "    for i in range(data_video_HB.shape[0]):\n",
    "        if bound_x_min < data_video_HB['delta X'].iloc[i] < bound_x_max:\n",
    "            if bound_y_min < data_video_HB['delta Y'].iloc[i] < bound_y_max:\n",
    "                den_map_HB[4 + int(data_video_HB['delta Y'].iloc[i]* mult_y) , 5 + int(data_video_HB['delta X'].iloc[i]*mult_x)] += 1\n",
    "\n",
    "    for i in range(data_video_SC.shape[0]):\n",
    "        if bound_x_min < data_video_SC['delta X'].iloc[i] < bound_x_max:\n",
    "            if bound_y_min < data_video_SC['delta Y'].iloc[i] < bound_y_max:\n",
    "                den_map_SC[4 + int(data_video_SC['delta Y'].iloc[i] * mult_y) , 5 + int(data_video_SC['delta X'].iloc[i]*mult_x)] += 1\n",
    "                \n",
    "                \n",
    "    return den_map_DA/den_map_DA.sum(), den_map_HB/den_map_HB.sum(),den_map_SC/den_map_SC.sum()\n",
    "\n"
   ]
  },
  {
   "cell_type": "code",
   "execution_count": 445,
   "metadata": {},
   "outputs": [],
   "source": [
    "# def make_density_map(data, min_saccade,n_rows,m_columns):\n",
    "#     data = data.dropna()\n",
    "#     size = 64\n",
    "#     dn = 2*size//n_rows + 1\n",
    "#     dm = 2*size//m_columns + 1\n",
    "#     data['delta X'] = (size - 1) * data['delta X'] / max(data['delta X'].max(), - data['delta X'].min())\n",
    "#     data['delta Y'] = (size - 1) * data['delta Y'] / max(data['delta Y'].max(), - data['delta Y'].min())\n",
    "\n",
    "\n",
    "    \n",
    "#     data_video_DA = data.loc[data['Trial Name'] == 'DadsArmy']\n",
    "#     data_video_DA.set_index(np.arange(data_video_DA.shape[0]))\n",
    "    \n",
    "#     data_video_HB = data.loc[data['Trial Name'] == 'HistoryBoys']\n",
    "#     data_video_HB.set_index(np.arange(data_video_HB.shape[0]))\n",
    "    \n",
    "#     data_video_SC = data.loc[data['Trial Name'] == 'SkiCross']\n",
    "#     data_video_SC.set_index(np.arange(data_video_SC.shape[0]))\n",
    "\n",
    "#     den_map_DA =np.zeros((n_rows,m_columns))\n",
    "#     den_map_HB =np.zeros((n_rows,m_columns))\n",
    "#     den_map_SC =np.zeros((n_rows,m_columns))\n",
    "\n",
    "#     for i in range(data_video_DA.shape[0]):\n",
    "#         if np.sqrt((data_video_DA['delta X'].iloc[i])**2 + (data_video_DA['delta Y'].iloc[i])**2) > min_saccade:\n",
    "#             den_map_DA[(size + int(data_video_DA['delta X'].iloc[i]) )// dn, (size + int(data_video_DA['delta Y'].iloc[i]))//dm] += 1\n",
    "    \n",
    "    \n",
    "#     for i in range(data_video_HB.shape[0]):\n",
    "#         if np.sqrt((data_video_HB['delta X'].iloc[i])**2 + (data_video_HB['delta Y'].iloc[i])**2) > min_saccade:\n",
    "#             den_map_HB[(size + int(data_video_HB['delta X'].iloc[i]) )// dn, (size + int(data_video_HB['delta Y'].iloc[i]))//dm] += 1\n",
    "\n",
    "#     for i in range(data_video_SC.shape[0]):\n",
    "#         if np.sqrt((data_video_SC['delta X'].iloc[i])**2 + (data_video_SC['delta Y'].iloc[i])**2) > min_saccade:\n",
    "#             den_map_SC[(size + int(data_video_SC['delta X'].iloc[i]) )// dn, (size + int(data_video_SC['delta Y'].iloc[i]))//dm] += 1\n",
    "                \n",
    "                \n",
    "#     return den_map_DA/data_video_DA.shape[0], den_map_HB/data_video_HB.shape[0],den_map_SC/data_video_SC.shape[0]\n"
   ]
  },
  {
   "cell_type": "code",
   "execution_count": 545,
   "metadata": {},
   "outputs": [],
   "source": [
    "def make_picture(data, min_saccade,size): # drop one video \n",
    "    data = data.dropna()\n",
    "\n",
    "\n",
    "    data['delta X'] = (size - 1) * data['delta X'] / max(data['delta X'].max(), - data['delta X'].min())\n",
    "    data['delta Y'] = (size - 1) * data['delta Y'] / max(data['delta Y'].max(), - data['delta Y'].min())    \n",
    "    \n",
    "    data_video_DA = data.loc[data['Trial Name'] == 'DadsArmy']\n",
    "    data_video_DA.set_index(np.arange(data_video_DA.shape[0]))\n",
    "    \n",
    "    data_video_HB = data.loc[data['Trial Name'] == 'HistoryBoys']\n",
    "    data_video_HB.set_index(np.arange(data_video_HB.shape[0]))\n",
    "    \n",
    "    data_video_SC = data.loc[data['Trial Name'] == 'SkiCross']\n",
    "    data_video_SC.set_index(np.arange(data_video_SC.shape[0]))\n",
    "\n",
    "    picture_DA = 255* np.ones((2*size,2*size))\n",
    "    picture_HB = 255* np.ones((2*size,2*size))\n",
    "    picture_SC = 255* np.ones((2*size,2*size))\n",
    "    \n",
    "    for i in range(data_video_DA.shape[0]):\n",
    "        if np.sqrt((data_video_DA['delta X'].iloc[i])**2 + (data_video_DA['delta Y'].iloc[i])**2) > min_saccade:\n",
    "            picture_DA[size + int(data_video_DA['delta X'].iloc[i]), size + int(data_video_DA['delta Y'].iloc[i]) ] = 0 \n",
    "\n",
    "\n",
    "    for i in range(data_video_HB.shape[0]):\n",
    "        if np.sqrt((data_video_HB['delta X'].iloc[i])**2 + (data_video_HB['delta Y'].iloc[i])**2) > min_saccade:\n",
    "            picture_HB[size + int(data_video_HB['delta X'].iloc[i]), size + int(data_video_HB['delta Y'].iloc[i]) ] = 0 \n",
    "\n",
    "\n",
    "    for i in range(data_video_SC.shape[0]):\n",
    "        if np.sqrt((data_video_SC['delta X'].iloc[i])**2 + (data_video_SC['delta Y'].iloc[i])**2) > min_saccade:\n",
    "            picture_SC[size + int(data_video_SC['delta X'].iloc[i]), size + int(data_video_SC['delta Y'].iloc[i]) ] = 0 \n",
    "    \n",
    "    return picture_DA/data_video_DA.shape[0],picture_HB/data_video_HB.shape[0],picture_SC/data_video_SC.shape[0]\n",
    "\n"
   ]
  },
  {
   "cell_type": "code",
   "execution_count": 447,
   "metadata": {},
   "outputs": [],
   "source": [
    "def fix_sac_sep_clean(tempdata):\n",
    "    tempdata = tempdata.replace(\".\", np.nan)\n",
    "    tempdata['Duration'] = tempdata['Duration'] - 1\n",
    "    tempdata[\"Start X\"] = pd.to_numeric(tempdata[\"Start X\"])\n",
    "    tempdata[\"Start Y\"] = pd.to_numeric(tempdata[\"Start Y\"])\n",
    "    tempdata[\"End X\"] = pd.to_numeric(tempdata[\"End X\"])\n",
    "    tempdata[\"End Y\"] = pd.to_numeric(tempdata[\"End Y\"])\n",
    "\n",
    "    tempdata_suc = pd.DataFrame(tempdata.dropna().loc[tempdata['Tracking type'] == 'Saccade' ], columns=tempdata.columns)\n",
    "    tempdata_suc = tempdata_suc.drop(tempdata_suc.loc[tempdata_suc['Amplitude'] > 1000].index) # drop bad values\n",
    "    tempdata_suc.index = np.arange(tempdata_suc.shape[0])\n",
    "    tempdata_suc = tempdata_suc.drop(tempdata_suc.loc[tempdata_suc['Start X'] > 1600].index)\n",
    "    tempdata_suc = tempdata_suc.drop(tempdata_suc.loc[tempdata_suc['End X'] > 1600].index)\n",
    "    tempdata_suc = tempdata_suc.drop(tempdata_suc.loc[tempdata_suc['Start Y'] > 1200].index)\n",
    "    tempdata_suc = tempdata_suc.drop(tempdata_suc.loc[tempdata_suc['End Y'] > 1200].index)\n",
    "    tempdata_suc = tempdata_suc.drop(tempdata_suc.loc[tempdata_suc['Start X'] < 1 ].index)\n",
    "    tempdata_suc = tempdata_suc.drop(tempdata_suc.loc[tempdata_suc['End X'] < 1].index)\n",
    "    tempdata_suc = tempdata_suc.drop(tempdata_suc.loc[tempdata_suc['Start Y'] < 1].index)\n",
    "    tempdata_suc = tempdata_suc.drop(tempdata_suc.loc[tempdata_suc['End Y'] < 1].index)\n",
    "\n",
    "\n",
    "    tempdata_fix = pd.DataFrame(tempdata.loc[tempdata['Tracking type'] == 'Fixation' ].values[:,:9], columns=['Fixation', 'Trial Name', 'Eye', 'Start Time', 'End Time', 'Duration',\n",
    "       'X', 'Y', 'Pupil Area'])\n",
    "    tempdata_fix['Start Time'] = pd.to_numeric(tempdata_fix['Start Time'])\n",
    "    tempdata_fix['End Time'] = pd.to_numeric(tempdata_fix['Start Time'])\n",
    "    tempdata_fix['Duration'] = pd.to_numeric(tempdata_fix['Duration'])\n",
    "    tempdata_fix['X'] = pd.to_numeric(tempdata_fix['X'])\n",
    "    tempdata_fix['Y'] = pd.to_numeric(tempdata_fix['Y'])\n",
    "    tempdata_fix['Pupil Area'] = pd.to_numeric(tempdata_fix['Pupil Area'])\n",
    "    tempdata_fix.index = np.arange(tempdata_fix.shape[0])\n",
    "    tempdata_fix = tempdata_fix.drop(tempdata_fix.loc[tempdata_fix['X'] > 1600].index)\n",
    "    tempdata_fix = tempdata_fix.drop(tempdata_fix.loc[tempdata_fix['Y'] > 1200].index)\n",
    "    tempdata_fix = tempdata_fix.drop(tempdata_fix.loc[tempdata_fix['X'] < 1].index)\n",
    "    tempdata_fix = tempdata_fix.drop(tempdata_fix.loc[tempdata_fix['Y'] < 1].index)\n",
    "    return tempdata_fix, tempdata_suc\n",
    "    "
   ]
  },
  {
   "cell_type": "code",
   "execution_count": 448,
   "metadata": {},
   "outputs": [],
   "source": [
    "# 'Number of fix points',\n",
    "#        'Number of sacs', 'Mean fix duration', 'Mean sac duration',\n",
    "#        'Mean Amplitude', 'Mean Peak Velocity', 'Fixatoin Trajectory Length',\n",
    "#        'Pupil oscil', \n",
    "\n",
    "features = ['Number of fix points per DadsArmy',\n",
    "       'Number of sacs pers DadsArmy', 'Mean fix duration per DadsArmy',\n",
    "       'Mean sac duration per DadsArmy', 'Mean Amplitude per DadsArmy',\n",
    "       'Mean Peak Velocity per DadsArmy',\n",
    "       'Fixatoin Trajectory Length DadsArmy',\n",
    "       'Number of fix points per HistoryBoys',\n",
    "       'Number of sacs pers HistoryBoys', 'Mean fix duration per HistoryBoys',\n",
    "       'Mean sac duration per HistoryBoys', 'Mean Amplitude per HistoryBoys',\n",
    "       'Mean Peak Velocity per HistoryBoys',\n",
    "       'Fixatoin Trajectory Length HistoryBoys',\n",
    "       'Number of fix points per SkiCross', 'Number of sacs pers SkiCross',\n",
    "       'Mean fix duration per SkiCross', 'Mean sac duration per SkiCross',\n",
    "       'Mean Amplitude per SkiCross', 'Mean Peak Velocity per SkiCross',\n",
    "       'Fixatoin Trajectory Length SkiCross']\n",
    "\n",
    "def make_dataset(files,features,path_read,path_write):\n",
    "    dataset_DA = pd.DataFrame(np.zeros((len(files),len(features)//3)), columns = features[:len(features)//3])\n",
    "    dataset_HB = pd.DataFrame(np.zeros((len(files),len(features)//3)), columns = features[len(features)//3:2*len(features)//3])\n",
    "    dataset_SC = pd.DataFrame(np.zeros((len(files),len(features)//3)), columns = features[2*len(features)//3:])\n",
    "    targets = []\n",
    "    for index,f in enumerate(files): \n",
    "        tempdata = pd.read_csv(path_read + '/' + f, header = 1).rename(index=str, columns={'Saccade': 'Tracking type'})\n",
    "        tempdata_fix, tempdata_suc = fix_sac_sep_clean(tempdata)\n",
    "        # generating features from inner dataset (timeserias to features)\n",
    "\n",
    "        data_ov_fix = tempdata_fix.loc[tempdata_fix['Trial Name'] == 'DadsArmy']\n",
    "        data_ov_suc = tempdata_suc.loc[tempdata_suc['Trial Name'] == 'DadsArmy']\n",
    "\n",
    "        dataset_DA['Number of fix points per DadsArmy'].iloc[index] = data_ov_fix.shape[0]\n",
    "        dataset_DA['Number of sacs pers DadsArmy'].iloc[index] = data_ov_suc.shape[0]\n",
    "        dataset_DA['Mean fix duration per DadsArmy'].iloc[index] = data_ov_fix['Duration'].mean()\n",
    "        dataset_DA['Mean sac duration per DadsArmy'].iloc[index] = data_ov_suc['Duration'].mean()\n",
    "        dataset_DA['Mean Amplitude per DadsArmy'].iloc[index] = data_ov_suc['Amplitude'].mean()\n",
    "        dataset_DA['Mean Peak Velocity per DadsArmy'].iloc[index] = data_ov_suc['Peak Velocity'].mean()\n",
    "        dataset_DA['Fixatoin Trajectory Length DadsArmy'].iloc[index] = np.sqrt((data_ov_fix['X'].values[1:] - data_ov_fix['X'].values[0:-1])**2 +\\\n",
    "        (data_ov_fix['Y'].values[1:] - data_ov_fix['Y'].values[:-1])**2).sum()\n",
    "\n",
    "        data_ov_fix = tempdata_fix.loc[tempdata_fix['Trial Name'] == 'HistoryBoys']\n",
    "        data_ov_suc = tempdata_suc.loc[tempdata_suc['Trial Name'] == 'HistoryBoys']\n",
    "\n",
    "        dataset_HB['Number of fix points per HistoryBoys'].iloc[index] = data_ov_fix.shape[0]\n",
    "        dataset_HB['Number of sacs pers HistoryBoys'].iloc[index] = data_ov_suc.shape[0]\n",
    "        dataset_HB['Mean fix duration per HistoryBoys'].iloc[index] = data_ov_fix['Duration'].mean()\n",
    "        dataset_HB['Mean sac duration per HistoryBoys'].iloc[index] = data_ov_suc['Duration'].mean()\n",
    "        dataset_HB['Mean Amplitude per HistoryBoys'].iloc[index] = data_ov_suc['Amplitude'].mean()\n",
    "        dataset_HB['Mean Peak Velocity per HistoryBoys'].iloc[index] = data_ov_suc['Peak Velocity'].mean()\n",
    "        dataset_HB['Fixatoin Trajectory Length HistoryBoys'].iloc[index] = np.sqrt((data_ov_fix['X'].values[1:] - data_ov_fix['X'].values[0:-1])**2 +\\\n",
    "        (data_ov_fix['Y'].values[1:] - data_ov_fix['Y'].values[:-1])**2).sum()\n",
    "\n",
    "        data_ov_fix = tempdata_fix.loc[tempdata_fix['Trial Name'] == 'SkiCross']\n",
    "        data_ov_suc = tempdata_suc.loc[tempdata_suc['Trial Name'] == 'SkiCross']\n",
    "\n",
    "        dataset_SC['Number of fix points per SkiCross'].iloc[index] = data_ov_fix.shape[0]\n",
    "        dataset_SC['Number of sacs pers SkiCross'].iloc[index] = data_ov_suc.shape[0]\n",
    "        dataset_SC['Mean fix duration per SkiCross'].iloc[index] = data_ov_fix['Duration'].mean()\n",
    "        dataset_SC['Mean sac duration per SkiCross'].iloc[index] = data_ov_suc['Duration'].mean()\n",
    "        dataset_SC['Mean Amplitude per SkiCross'].iloc[index] = data_ov_suc['Amplitude'].mean()\n",
    "        dataset_SC['Mean Peak Velocity per SkiCross'].iloc[index] = data_ov_suc['Peak Velocity'].mean()\n",
    "        dataset_SC['Fixatoin Trajectory Length SkiCross'].iloc[index] = np.sqrt((data_ov_fix['X'].values[1:] - data_ov_fix['X'].values[0:-1])**2 +\\\n",
    "        (data_ov_fix['Y'].values[1:] - data_ov_fix['Y'].values[:-1])**2).sum()\n",
    "        \n",
    "        # relative saccade and diff of pupil size\n",
    "        map_suc = np.zeros((tempdata_suc.shape[0],2))\n",
    "        pupil_delta = np.zeros(tempdata_fix.shape[0])\n",
    "        map_suc[:,0] = tempdata_suc['Start X'].values - tempdata_suc['End X'].values\n",
    "        map_suc[:,1] = tempdata_suc['Start Y'].values - tempdata_suc['End Y'].values\n",
    "        pupil_delta = np.abs(tempdata_fix['Pupil Area'].values[:-1]  - tempdata_fix['Pupil Area'].values[1:])\n",
    "        data_suc = pd.concat([tempdata_suc['Trial Name'].iloc[:-1],pd.DataFrame(map_suc, columns = ['delta X', 'delta Y'],index = np.arange(map_suc.shape[0]))], axis = 1)\n",
    "        \n",
    "        data_pupil = pd.concat([tempdata_fix['Trial Name'].iloc[:-1],pd.DataFrame(pupil_delta, columns = ['Pupil Area'])],axis = 1)\n",
    "        data_pupil = data_pupil.dropna()\n",
    "        data_suc = data_suc.dropna()\n",
    "        data_suc.to_csv(path_write+ '_suc_delta_' + f)\n",
    "        data_pupil.to_csv(path_write + '_pupil_delta_' + f)\n",
    "        if index == 41:\n",
    "            print(data_suc)\n",
    "        if f[0] == 'C':\n",
    "            targets.append(0)\n",
    "        else:\n",
    "            targets.append(1)\n",
    "    return dataset_DA, dataset_HB, dataset_SC ,targets \n",
    "\n",
    "\n",
    "\n",
    "\n"
   ]
  },
  {
   "cell_type": "code",
   "execution_count": null,
   "metadata": {},
   "outputs": [],
   "source": []
  },
  {
   "cell_type": "code",
   "execution_count": 546,
   "metadata": {},
   "outputs": [
    {
     "name": "stdout",
     "output_type": "stream",
     "text": [
      "C001.csv\n",
      "C002.csv\n",
      "C003.csv\n",
      "C004.csv\n",
      "C005.csv\n",
      "C006.csv\n",
      "C007.csv\n",
      "C008.csv\n",
      "C009.csv\n",
      "C010.csv\n",
      "C011.csv\n",
      "C012.csv\n",
      "C013.csv\n",
      "C014.csv\n",
      "C015.csv\n",
      "C016.csv\n",
      "C017.csv\n",
      "C018.csv\n",
      "C019.csv\n",
      "C020.csv\n",
      "C021.csv\n",
      "C022.csv\n",
      "C023.csv\n",
      "C024.csv\n",
      "C025.csv\n",
      "C026.csv\n",
      "C027.csv\n",
      "C028.csv\n",
      "C029.csv\n",
      "C030.csv\n",
      "C031.csv\n",
      "C032.csv\n",
      "G001.csv\n",
      "G002.csv\n",
      "G003.csv\n",
      "G004.csv\n",
      "G005.csv\n",
      "G006.csv\n",
      "G007.csv\n",
      "G008.csv\n",
      "G009.csv\n",
      "G011.csv\n",
      "G012.csv\n",
      "G013.csv\n",
      "G014.csv\n",
      "G015.csv\n",
      "G016.csv\n",
      "G017.csv\n",
      "G018.csv\n",
      "G019.csv\n",
      "G020.csv\n",
      "G021.csv\n",
      "G022.csv\n",
      "G023.csv\n",
      "G024.csv\n",
      "G025.csv\n",
      "G026.csv\n",
      "G027.csv\n",
      "G028.csv\n",
      "G029.csv\n",
      "G030.csv\n",
      "G031.csv\n",
      "G032.csv\n",
      "G033.csv\n",
      "G034.csv\n",
      "G035.csv\n",
      "G036.csv\n",
      "G037.csv\n",
      "G038.csv\n",
      "G039.csv\n",
      "G040.csv\n",
      "G041.csv\n",
      "G042.csv\n",
      "G043.csv\n",
      "G044.csv\n"
     ]
    }
   ],
   "source": [
    "# main func \n",
    "path = './EyeMovementsGlaucomaDataset/Data/Clinical/ParticipantDetails.csv'\n",
    "clinic = pd.read_csv(path)\n",
    "clinic = clinic.sort_values(by=['ID'])\n",
    "clinic = clinic.reset_index(drop = True)\n",
    "clinic = clinic.drop(['Left MD','Right MD'],axis = 1)\n",
    "\n",
    "path = './EyeMovementsGlaucomaDataset/Data/Gaze/Processed/Control'\n",
    "control_path = path \n",
    "files = [f for f in listdir(control_path) if f.endswith('.csv')]\n",
    "dataset = clinic\n",
    "files.sort()\n",
    "del files[41]\n",
    "\n",
    "path_read = path\n",
    "path_write = './EyeMovementsGlaucomaDataset/'\n",
    "\n",
    "#dataset_DA, dataset_HB, dataset_SC, targets_d = make_dataset(files,features, path_read,path_write)\n",
    "pictures_DA = []\n",
    "pictures_HB = []\n",
    "pictures_SC = []\n",
    "den_maps_DA = []\n",
    "den_maps_HB = []\n",
    "den_maps_SC = []\n",
    "pupil_hists_DA = []\n",
    "pupil_hists_HB = []\n",
    "pupil_hists_SC = []\n",
    "\n",
    "\n",
    "targets_p = []\n",
    "min_saccade = 0\n",
    "size = 64\n",
    "n_rows = 10\n",
    "n_columns = 12\n",
    "bins = 20\n",
    "min_diff= 0.1\n",
    "for f in files:\n",
    "    data =  pd.read_csv(path_write + '/_suc_delta_' + f)\n",
    "    #picture_DA, picture_HB,picture_SC = make_picture(data,min_saccade,size)\n",
    "    den_map_DA,den_map_HB,den_map_SC = make_density_map(data,min_saccade,n_rows,n_columns)\n",
    "    print(f)\n",
    "    #pictures_DA.append(picture_DA) \n",
    "    #pictures_HB.append(picture_HB) \n",
    "    #pictures_SC.append(picture_SC) \n",
    "    den_maps_DA.append(den_map_DA)\n",
    "    den_maps_HB.append(den_map_HB)\n",
    "    den_maps_SC.append(den_map_SC)\n",
    "    \n",
    "    #data =  pd.read_csv(path_write + '_pupil_delta_' + f)\n",
    "    #pupil_hist_DA, pupil_hist_HB, pupil_hist_SC = make_hist_pupil(data,bins,min_diff)\n",
    "    #pupil_hists_DA.append(pupil_hist_DA)\n",
    "    #pupil_hists_HB.append(pupil_hist_HB)\n",
    "    #pupil_hists_SC.append(pupil_hist_SC)\n",
    "\n",
    "    if f[0] == 'C':\n",
    "        targets_p.append(0)\n",
    "    else:\n",
    "        targets_p.append(1)\n",
    "        \n",
    "\n",
    "\n",
    "\n",
    "\n"
   ]
  },
  {
   "cell_type": "code",
   "execution_count": 548,
   "metadata": {},
   "outputs": [
    {
     "data": {
      "image/png": "[encoded data removed]",
      "text/plain": [
       "<Figure size 432x288 with 1 Axes>"
      ]
     },
     "metadata": {
      "needs_background": "light"
     },
     "output_type": "display_data"
    }
   ],
   "source": [
    "plt.imshow(den_maps_DA[17].reshape(10,12))\n",
    "plt.savefig('soska.png')"
   ]
  },
  {
   "cell_type": "code",
   "execution_count": 520,
   "metadata": {},
   "outputs": [
    {
     "data": {
      "text/plain": [
       "0.3380447585394582"
      ]
     },
     "execution_count": 520,
     "metadata": {},
     "output_type": "execute_result"
    }
   ],
   "source": [
    "den_maps_DA[19].reshape(10,12).sum()"
   ]
  },
  {
   "cell_type": "code",
   "execution_count": 547,
   "metadata": {},
   "outputs": [],
   "source": [
    "for i in range(len(den_maps_DA)): \n",
    "    den_maps_DA[i][4:6,5:7] = 0\n",
    "    den_maps_HB[i][4:6,5:7] = 0\n",
    "    den_maps_SC[i][4:6,5:7] = 0\n",
    "    den_maps_DA[i] = den_maps_DA[i].reshape(-1,)/den_maps_DA[i].sum()\n",
    "    den_maps_HB[i] = den_maps_HB[i].reshape(-1,)/den_maps_HB[i].sum()\n",
    "    den_maps_SC[i] = den_maps_SC[i].reshape(-1,)/den_maps_SC[i].sum()\n",
    "\n",
    "pd.DataFrame(np.array(den_maps_DA), columns = np.arange(n_rows * n_columns)).to_csv(path_write + 'den_map_DA')\n",
    "pd.DataFrame(np.array(den_maps_HB), columns = np.arange(n_rows * n_columns)).to_csv(path_write + 'den_map_HB')\n",
    "pd.DataFrame(np.array(den_maps_SC), columns = np.arange(n_rows * n_columns)).to_csv(path_write + 'den_map_SC')  \n",
    "\n",
    "# pd.DataFrame(np.array(pupil_hists_DA), columns = np.arange(bins)).to_csv(path_write + 'pupil_hist_DA')\n",
    "# pd.DataFrame(np.array(pupil_hists_HB), columns = np.arange(bins)).to_csv(path_write + 'pupil_hist_HB')\n",
    "# pd.DataFrame(np.array(pupil_hists_SC), columns = np.arange(bins)).to_csv(path_write + 'pupil_hist_SC')"
   ]
  },
  {
   "cell_type": "code",
   "execution_count": 549,
   "metadata": {},
   "outputs": [],
   "source": [
    "\n",
    "\n",
    "def kernel_func_one(mean_d,max_d):\n",
    "    sigma = 0.2\n",
    "    return np.exp(-1/2 * (mean_d + max_d)**2/(sigma**2)) \n",
    "\n",
    "def kernel_func_mixed(mean_p_d, max_p_d, mean_s_d,max_s_d):\n",
    "    sigma = 0.2\n",
    "    return np.exp(-1/2 * (mean_p_d + max_p_d)**2 +(mean_s_d + max_s_d)**2 /(sigma**2))\n",
    "\n",
    "\n",
    "def kernel_calc_func(data_1, data_2):\n",
    "    d_1 = np.linalg.norm(data_1[0] - data_2[0], ord = 2)\n",
    "    d_2 = np.linalg.norm(data_1[1] - data_2[1], ord = 2)\n",
    "    d_3 = np.linalg.norm(data_1[2] - data_2[2], ord = 2)\n",
    "    mean_d = (d_1 + d_2 + d_3)/3\n",
    "\n",
    "\n",
    "\n",
    "    max_d = np.max([d_1,d_2,d_3] )\n",
    "    return kernel_func_one(mean_d,max_d)\n",
    "\n",
    "\n",
    "def kernel_calc_func_mixed(data_1,data_2):\n",
    "    d_s_1 = np.linalg.norm(data_1[0] - data_2[0],ord = 2)\n",
    "    d_s_2 = np.linalg.norm(data_1[1] - data_2[1],ord = 2)\n",
    "    d_s_3 = np.linalg.norm(data_1[2] - data_2[2],ord = 2)\n",
    "    d_p_4 = np.linalg.norm(data_1[3] - data_2[3],ord = 2)\n",
    "    d_p_5 = np.linalg.norm(data_1[4] - data_2[5],ord = 2)\n",
    "    d_p_6 = np.linalg.norm(data_1[5] - data_2[5],ord = 2)\n",
    "    mean_s_d = (d_p_1 + d_p_2 + d_p_3)/3\n",
    "    max_s_d = np.max([d_p_1,d_p_2,d_p_3])\n",
    "    mean_p_d = (d_s_1 + d_s_2 + d_s_3)/3\n",
    "    max_p_d = np.max([d_s_1,d_s_2,d_s_3])\n",
    "    return kernel_func_mixed(mean_p_d, max_p_d, mean_s_d,max_s_d)\n",
    "\n",
    "\n",
    "\n"
   ]
  },
  {
   "cell_type": "code",
   "execution_count": 550,
   "metadata": {},
   "outputs": [],
   "source": [
    "def make_kernel_matrix(data_1, n_samples):\n",
    "    K = np.zeros((n_samples,n_samples))\n",
    "    for i in range(n_samples):\n",
    "        for j in range(n_samples):\n",
    "            K[i][j] = kernel_calc_func(data_1[i], data_1[j])\n",
    "    return K\n",
    "\n",
    "def make_kernel_matrix_mixed(data_1, n_samples):\n",
    "    K = np.zeros((n_samples,n_samples))\n",
    "    for i in range(n_samples):\n",
    "        for j in range(n_samples):\n",
    "            K[i][j] = kernel_calc_func_mixed(data_1[i], data_1[j])\n",
    "    return K\n",
    "\n",
    "\n",
    "\n",
    "\n"
   ]
  },
  {
   "cell_type": "code",
   "execution_count": 551,
   "metadata": {},
   "outputs": [],
   "source": [
    "def make_data_for_kernel(data_DA, data_HB, data_SC): \n",
    "    data = []\n",
    "    for i in range(len(data_DA)):\n",
    "        data.append([data_DA[i],data_HB[i],data_SC[i]])\n",
    "    return data\n",
    "\n",
    "def make_data_for_kernel_mixed(data_DA_s, data_HB_s, data_SC_s,data_DA_p, data_HB_p, data_SC_p): \n",
    "    data = []\n",
    "    for i in range(len(data_DA)):\n",
    "        data.append([data_DA_s[i],data_HB_s[i],data_SC_s[i],data_DA_p[i],data_HB_p[i],data_SC_p[i]])\n",
    "    return data"
   ]
  },
  {
   "cell_type": "code",
   "execution_count": 552,
   "metadata": {},
   "outputs": [],
   "source": [
    "K = make_kernel_matrix(make_data_for_kernel(den_maps_DA,den_maps_HB,den_maps_SC), 75)"
   ]
  },
  {
   "cell_type": "code",
   "execution_count": null,
   "metadata": {},
   "outputs": [],
   "source": []
  },
  {
   "cell_type": "code",
   "execution_count": null,
   "metadata": {},
   "outputs": [],
   "source": []
  },
  {
   "cell_type": "code",
   "execution_count": 553,
   "metadata": {},
   "outputs": [],
   "source": [
    "def center_kernel_matrix(K):\n",
    "    K_center = np.zeros(K.shape)\n",
    "    size = K.shape[0]\n",
    "    K_center = K - K.sum(axis = 0).reshape(-1,1)/size - K.sum(axis = 1 )/size + K.sum()/(size**2)\n",
    "    return K_center"
   ]
  },
  {
   "cell_type": "code",
   "execution_count": 554,
   "metadata": {},
   "outputs": [],
   "source": [
    "def centr_kernel_func(sample_1, sample_2, train_sample,K):\n",
    "    K_12 = kernel_calc_func(sample_1, sample_2)\n",
    "    K_1 = 0\n",
    "    K_2 = 0\n",
    "    for i in range(len(train_sample)):\n",
    "        K_1 += kernel_calc_func(sample_1,train_sample[i])/len(train_sample)\n",
    "        K_2 += kernel_calc_func(sample_2,train_sample[i])/len(train_sample)\n",
    "    return K_12 - K_1 - K_2 + K.sum()/(len(train_sample))**2\n",
    "        \n",
    "    "
   ]
  },
  {
   "cell_type": "code",
   "execution_count": 555,
   "metadata": {},
   "outputs": [],
   "source": [
    "\n",
    "def get_K(x, y, sigma=0.2):\n",
    "    return np.exp(-1/(2*sigma**2)*(x+y)**2)\n",
    "    \n",
    "def get_projections(new_sample, train_samples, eigenvectors, K): \n",
    "    projections = []\n",
    "    for eigen_idx in range(eigenvectors.shape[1]):\n",
    "        projection = 0\n",
    "        for element_idx, element in enumerate(train_samples):\n",
    "            projection += eigenvectors[element_idx, eigen_idx] * centr_kernel_func(\n",
    "                train_samples[element_idx], new_sample, train_samples, K)\n",
    "        projections.append(projection)\n",
    "    return np.asarray(projections)\n",
    "            "
   ]
  },
  {
   "cell_type": "code",
   "execution_count": 556,
   "metadata": {},
   "outputs": [
    {
     "name": "stdout",
     "output_type": "stream",
     "text": [
      "[4.75854902 5.23935722]\n",
      "0\n",
      "1\n",
      "2\n",
      "3\n"
     ]
    },
    {
     "ename": "KeyboardInterrupt",
     "evalue": "",
     "output_type": "error",
     "traceback": [
      "\u001b[0;31m---------------------------------------------------------------------------\u001b[0m",
      "\u001b[0;31mKeyboardInterrupt\u001b[0m                         Traceback (most recent call last)",
      "\u001b[0;32m<ipython-input-556-f23a0dd70fc6>\u001b[0m in \u001b[0;36m<module>\u001b[0;34m\u001b[0m\n\u001b[1;32m     19\u001b[0m     \u001b[0mnew_features_test\u001b[0m \u001b[0;34m=\u001b[0m \u001b[0mnp\u001b[0m\u001b[0;34m.\u001b[0m\u001b[0mzeros\u001b[0m\u001b[0;34m(\u001b[0m\u001b[0;34m(\u001b[0m\u001b[0mlen\u001b[0m\u001b[0;34m(\u001b[0m\u001b[0mtest_index\u001b[0m\u001b[0;34m)\u001b[0m\u001b[0;34m,\u001b[0m \u001b[0mk\u001b[0m\u001b[0;34m)\u001b[0m\u001b[0;34m)\u001b[0m\u001b[0;34m\u001b[0m\u001b[0;34m\u001b[0m\u001b[0m\n\u001b[1;32m     20\u001b[0m     \u001b[0;32mfor\u001b[0m \u001b[0mi\u001b[0m \u001b[0;32min\u001b[0m \u001b[0mrange\u001b[0m\u001b[0;34m(\u001b[0m\u001b[0mlen\u001b[0m\u001b[0;34m(\u001b[0m\u001b[0mtrain_index\u001b[0m\u001b[0;34m)\u001b[0m\u001b[0;34m)\u001b[0m\u001b[0;34m:\u001b[0m\u001b[0;34m\u001b[0m\u001b[0;34m\u001b[0m\u001b[0m\n\u001b[0;32m---> 21\u001b[0;31m         \u001b[0mnew_features_train\u001b[0m\u001b[0;34m[\u001b[0m\u001b[0mi\u001b[0m\u001b[0;34m]\u001b[0m \u001b[0;34m=\u001b[0m \u001b[0mget_projections\u001b[0m\u001b[0;34m(\u001b[0m\u001b[0mX_train\u001b[0m\u001b[0;34m[\u001b[0m\u001b[0mi\u001b[0m\u001b[0;34m]\u001b[0m\u001b[0;34m,\u001b[0m \u001b[0mX_train\u001b[0m\u001b[0;34m,\u001b[0m \u001b[0meigenvectors\u001b[0m\u001b[0;34m,\u001b[0m \u001b[0mK\u001b[0m\u001b[0;34m)\u001b[0m\u001b[0;34m\u001b[0m\u001b[0;34m\u001b[0m\u001b[0m\n\u001b[0m\u001b[1;32m     22\u001b[0m         \u001b[0mprint\u001b[0m\u001b[0;34m(\u001b[0m\u001b[0mi\u001b[0m\u001b[0;34m)\u001b[0m\u001b[0;34m\u001b[0m\u001b[0;34m\u001b[0m\u001b[0m\n\u001b[1;32m     23\u001b[0m     \u001b[0;32mfor\u001b[0m \u001b[0mi\u001b[0m \u001b[0;32min\u001b[0m \u001b[0mrange\u001b[0m\u001b[0;34m(\u001b[0m\u001b[0mlen\u001b[0m\u001b[0;34m(\u001b[0m\u001b[0mtest_index\u001b[0m\u001b[0;34m)\u001b[0m\u001b[0;34m)\u001b[0m\u001b[0;34m:\u001b[0m\u001b[0;34m\u001b[0m\u001b[0;34m\u001b[0m\u001b[0m\n",
      "\u001b[0;32m<ipython-input-555-d8a6ae0f3b8c>\u001b[0m in \u001b[0;36mget_projections\u001b[0;34m(new_sample, train_samples, eigenvectors, K)\u001b[0m\n\u001b[1;32m      9\u001b[0m         \u001b[0;32mfor\u001b[0m \u001b[0melement_idx\u001b[0m\u001b[0;34m,\u001b[0m \u001b[0melement\u001b[0m \u001b[0;32min\u001b[0m \u001b[0menumerate\u001b[0m\u001b[0;34m(\u001b[0m\u001b[0mtrain_samples\u001b[0m\u001b[0;34m)\u001b[0m\u001b[0;34m:\u001b[0m\u001b[0;34m\u001b[0m\u001b[0;34m\u001b[0m\u001b[0m\n\u001b[1;32m     10\u001b[0m             projection += eigenvectors[element_idx, eigen_idx] * centr_kernel_func(\n\u001b[0;32m---> 11\u001b[0;31m                 train_samples[element_idx], new_sample, train_samples, K)\n\u001b[0m\u001b[1;32m     12\u001b[0m         \u001b[0mprojections\u001b[0m\u001b[0;34m.\u001b[0m\u001b[0mappend\u001b[0m\u001b[0;34m(\u001b[0m\u001b[0mprojection\u001b[0m\u001b[0;34m)\u001b[0m\u001b[0;34m\u001b[0m\u001b[0;34m\u001b[0m\u001b[0m\n\u001b[1;32m     13\u001b[0m     \u001b[0;32mreturn\u001b[0m \u001b[0mnp\u001b[0m\u001b[0;34m.\u001b[0m\u001b[0masarray\u001b[0m\u001b[0;34m(\u001b[0m\u001b[0mprojections\u001b[0m\u001b[0;34m)\u001b[0m\u001b[0;34m\u001b[0m\u001b[0;34m\u001b[0m\u001b[0m\n",
      "\u001b[0;32m<ipython-input-554-e3c42cfce6e5>\u001b[0m in \u001b[0;36mcentr_kernel_func\u001b[0;34m(sample_1, sample_2, train_sample, K)\u001b[0m\n\u001b[1;32m      4\u001b[0m     \u001b[0mK_2\u001b[0m \u001b[0;34m=\u001b[0m \u001b[0;36m0\u001b[0m\u001b[0;34m\u001b[0m\u001b[0;34m\u001b[0m\u001b[0m\n\u001b[1;32m      5\u001b[0m     \u001b[0;32mfor\u001b[0m \u001b[0mi\u001b[0m \u001b[0;32min\u001b[0m \u001b[0mrange\u001b[0m\u001b[0;34m(\u001b[0m\u001b[0mlen\u001b[0m\u001b[0;34m(\u001b[0m\u001b[0mtrain_sample\u001b[0m\u001b[0;34m)\u001b[0m\u001b[0;34m)\u001b[0m\u001b[0;34m:\u001b[0m\u001b[0;34m\u001b[0m\u001b[0;34m\u001b[0m\u001b[0m\n\u001b[0;32m----> 6\u001b[0;31m         \u001b[0mK_1\u001b[0m \u001b[0;34m+=\u001b[0m \u001b[0mkernel_calc_func\u001b[0m\u001b[0;34m(\u001b[0m\u001b[0msample_1\u001b[0m\u001b[0;34m,\u001b[0m\u001b[0mtrain_sample\u001b[0m\u001b[0;34m[\u001b[0m\u001b[0mi\u001b[0m\u001b[0;34m]\u001b[0m\u001b[0;34m)\u001b[0m\u001b[0;34m/\u001b[0m\u001b[0mlen\u001b[0m\u001b[0;34m(\u001b[0m\u001b[0mtrain_sample\u001b[0m\u001b[0;34m)\u001b[0m\u001b[0;34m\u001b[0m\u001b[0;34m\u001b[0m\u001b[0m\n\u001b[0m\u001b[1;32m      7\u001b[0m         \u001b[0mK_2\u001b[0m \u001b[0;34m+=\u001b[0m \u001b[0mkernel_calc_func\u001b[0m\u001b[0;34m(\u001b[0m\u001b[0msample_2\u001b[0m\u001b[0;34m,\u001b[0m\u001b[0mtrain_sample\u001b[0m\u001b[0;34m[\u001b[0m\u001b[0mi\u001b[0m\u001b[0;34m]\u001b[0m\u001b[0;34m)\u001b[0m\u001b[0;34m/\u001b[0m\u001b[0mlen\u001b[0m\u001b[0;34m(\u001b[0m\u001b[0mtrain_sample\u001b[0m\u001b[0;34m)\u001b[0m\u001b[0;34m\u001b[0m\u001b[0;34m\u001b[0m\u001b[0m\n\u001b[1;32m      8\u001b[0m     \u001b[0;32mreturn\u001b[0m \u001b[0mK_12\u001b[0m \u001b[0;34m-\u001b[0m \u001b[0mK_1\u001b[0m \u001b[0;34m-\u001b[0m \u001b[0mK_2\u001b[0m \u001b[0;34m+\u001b[0m \u001b[0mK\u001b[0m\u001b[0;34m.\u001b[0m\u001b[0msum\u001b[0m\u001b[0;34m(\u001b[0m\u001b[0;34m)\u001b[0m\u001b[0;34m/\u001b[0m\u001b[0;34m(\u001b[0m\u001b[0mlen\u001b[0m\u001b[0;34m(\u001b[0m\u001b[0mtrain_sample\u001b[0m\u001b[0;34m)\u001b[0m\u001b[0;34m)\u001b[0m\u001b[0;34m**\u001b[0m\u001b[0;36m2\u001b[0m\u001b[0;34m\u001b[0m\u001b[0;34m\u001b[0m\u001b[0m\n",
      "\u001b[0;32m<ipython-input-549-ca2bef617687>\u001b[0m in \u001b[0;36mkernel_calc_func\u001b[0;34m(data_1, data_2)\u001b[0m\n\u001b[1;32m     12\u001b[0m \u001b[0;32mdef\u001b[0m \u001b[0mkernel_calc_func\u001b[0m\u001b[0;34m(\u001b[0m\u001b[0mdata_1\u001b[0m\u001b[0;34m,\u001b[0m \u001b[0mdata_2\u001b[0m\u001b[0;34m)\u001b[0m\u001b[0;34m:\u001b[0m\u001b[0;34m\u001b[0m\u001b[0;34m\u001b[0m\u001b[0m\n\u001b[1;32m     13\u001b[0m     \u001b[0md_1\u001b[0m \u001b[0;34m=\u001b[0m \u001b[0mnp\u001b[0m\u001b[0;34m.\u001b[0m\u001b[0mlinalg\u001b[0m\u001b[0;34m.\u001b[0m\u001b[0mnorm\u001b[0m\u001b[0;34m(\u001b[0m\u001b[0mdata_1\u001b[0m\u001b[0;34m[\u001b[0m\u001b[0;36m0\u001b[0m\u001b[0;34m]\u001b[0m \u001b[0;34m-\u001b[0m \u001b[0mdata_2\u001b[0m\u001b[0;34m[\u001b[0m\u001b[0;36m0\u001b[0m\u001b[0;34m]\u001b[0m\u001b[0;34m,\u001b[0m \u001b[0mord\u001b[0m \u001b[0;34m=\u001b[0m \u001b[0;36m2\u001b[0m\u001b[0;34m)\u001b[0m\u001b[0;34m\u001b[0m\u001b[0;34m\u001b[0m\u001b[0m\n\u001b[0;32m---> 14\u001b[0;31m     \u001b[0md_2\u001b[0m \u001b[0;34m=\u001b[0m \u001b[0mnp\u001b[0m\u001b[0;34m.\u001b[0m\u001b[0mlinalg\u001b[0m\u001b[0;34m.\u001b[0m\u001b[0mnorm\u001b[0m\u001b[0;34m(\u001b[0m\u001b[0mdata_1\u001b[0m\u001b[0;34m[\u001b[0m\u001b[0;36m1\u001b[0m\u001b[0;34m]\u001b[0m \u001b[0;34m-\u001b[0m \u001b[0mdata_2\u001b[0m\u001b[0;34m[\u001b[0m\u001b[0;36m1\u001b[0m\u001b[0;34m]\u001b[0m\u001b[0;34m,\u001b[0m \u001b[0mord\u001b[0m \u001b[0;34m=\u001b[0m \u001b[0;36m2\u001b[0m\u001b[0;34m)\u001b[0m\u001b[0;34m\u001b[0m\u001b[0;34m\u001b[0m\u001b[0m\n\u001b[0m\u001b[1;32m     15\u001b[0m     \u001b[0md_3\u001b[0m \u001b[0;34m=\u001b[0m \u001b[0mnp\u001b[0m\u001b[0;34m.\u001b[0m\u001b[0mlinalg\u001b[0m\u001b[0;34m.\u001b[0m\u001b[0mnorm\u001b[0m\u001b[0;34m(\u001b[0m\u001b[0mdata_1\u001b[0m\u001b[0;34m[\u001b[0m\u001b[0;36m2\u001b[0m\u001b[0;34m]\u001b[0m \u001b[0;34m-\u001b[0m \u001b[0mdata_2\u001b[0m\u001b[0;34m[\u001b[0m\u001b[0;36m2\u001b[0m\u001b[0;34m]\u001b[0m\u001b[0;34m,\u001b[0m \u001b[0mord\u001b[0m \u001b[0;34m=\u001b[0m \u001b[0;36m2\u001b[0m\u001b[0;34m)\u001b[0m\u001b[0;34m\u001b[0m\u001b[0;34m\u001b[0m\u001b[0m\n\u001b[1;32m     16\u001b[0m     \u001b[0mmean_d\u001b[0m \u001b[0;34m=\u001b[0m \u001b[0;34m(\u001b[0m\u001b[0md_1\u001b[0m \u001b[0;34m+\u001b[0m \u001b[0md_2\u001b[0m \u001b[0;34m+\u001b[0m \u001b[0md_3\u001b[0m\u001b[0;34m)\u001b[0m\u001b[0;34m/\u001b[0m\u001b[0;36m3\u001b[0m\u001b[0;34m\u001b[0m\u001b[0;34m\u001b[0m\u001b[0m\n",
      "\u001b[0;31mKeyboardInterrupt\u001b[0m: "
     ]
    }
   ],
   "source": [
    "skf = StratifiedKFold(n_splits=5, shuffle=True, random_state=RANDOM_STATE)\n",
    "scores = []\n",
    "data_DA, data_HB, data_SC = den_maps_DA, den_maps_HB, den_maps_SC\n",
    "data = make_data_for_kernel(data_DA, data_HB, data_SC)\n",
    "data = np.array(data)\n",
    "targets_p = np.array(targets_p)\n",
    "k=2\n",
    "for train_index, test_index in skf.split(data, targets_p):\n",
    "    X_train, X_test = data[train_index], data[test_index]\n",
    "    y_train, y_test = targets_p[train_index], targets_p[test_index]\n",
    "    K = make_kernel_matrix(X_train, len(train_index))\n",
    "    eigenvalues_1, eigenvectors_1 = np.linalg.eigh(center_kernel_matrix(K))\n",
    "    eigenvalues = eigenvalues_1[len(train_index)- k :]\n",
    "    eigenvectors = eigenvectors_1[:,len(train_index)- k: ]\n",
    "    print(eigenvalues)\n",
    "    for idx, eigenvalue in enumerate(eigenvalues):\n",
    "        eigenvectors[:, idx] = eigenvectors[:, idx] / (eigenvalue * np.linalg.norm(eigenvectors[:, idx], ord=2))\n",
    "    new_features_train = np.zeros((len(train_index), k))\n",
    "    new_features_test = np.zeros((len(test_index), k))\n",
    "    for i in range(len(train_index)):\n",
    "        new_features_train[i] = get_projections(X_train[i], X_train, eigenvectors, K)\n",
    "        print(i)\n",
    "    for i in range(len(test_index)):\n",
    "        new_features_test[i] = get_projections(X_test[i], X_train, eigenvectors, K)\n",
    "    print('READY')\n",
    "    nb_clf = GaussianNB()\n",
    "    nb_clf.fit(new_features_train, y_train)\n",
    "    score = accuracy_score(y_test, nb_clf.predict(new_features_test))\n",
    "    scores.append(score)"
   ]
  },
  {
   "cell_type": "code",
   "execution_count": 540,
   "metadata": {},
   "outputs": [
    {
     "data": {
      "text/plain": [
       "[]"
      ]
     },
     "execution_count": 540,
     "metadata": {},
     "output_type": "execute_result"
    }
   ],
   "source": [
    "scores"
   ]
  },
  {
   "cell_type": "code",
   "execution_count": 557,
   "metadata": {},
   "outputs": [],
   "source": [
    "data_DA, data_HB, data_SC = den_maps_DA, den_maps_HB, den_maps_SC\n",
    "data = make_data_for_kernel(data_DA, data_HB, data_SC)\n",
    "data = np.array(data)\n",
    "targets_p = np.array(targets_p)\n",
    "k=2\n",
    "K = make_kernel_matrix(make_data_for_kernel(den_maps_DA,den_maps_HB,den_maps_SC), 75)\n",
    "eigenvalues_1, eigenvectors_1 = np.linalg.eigh(center_kernel_matrix(K))\n",
    "eigenvalues = eigenvalues_1[len(data)- k :]\n",
    "eigenvectors = eigenvectors_1[:,len(data)- k: ]"
   ]
  },
  {
   "cell_type": "code",
   "execution_count": 558,
   "metadata": {},
   "outputs": [
    {
     "name": "stdout",
     "output_type": "stream",
     "text": [
      "0\n",
      "1\n",
      "2\n",
      "3\n",
      "4\n",
      "5\n",
      "6\n",
      "7\n",
      "8\n",
      "9\n",
      "10\n",
      "11\n",
      "12\n",
      "13\n",
      "14\n",
      "15\n",
      "16\n",
      "17\n",
      "18\n",
      "19\n",
      "20\n",
      "21\n",
      "22\n",
      "23\n",
      "24\n",
      "25\n",
      "26\n",
      "27\n",
      "28\n",
      "29\n",
      "30\n",
      "31\n",
      "32\n",
      "33\n",
      "34\n",
      "35\n",
      "36\n",
      "37\n",
      "38\n",
      "39\n",
      "40\n",
      "41\n",
      "42\n",
      "43\n",
      "44\n",
      "45\n",
      "46\n",
      "47\n",
      "48\n",
      "49\n",
      "50\n",
      "51\n",
      "52\n",
      "53\n",
      "54\n",
      "55\n",
      "56\n",
      "57\n",
      "58\n",
      "59\n",
      "60\n",
      "61\n",
      "62\n",
      "63\n",
      "64\n",
      "65\n",
      "66\n",
      "67\n",
      "68\n",
      "69\n",
      "70\n",
      "71\n",
      "72\n",
      "73\n",
      "74\n"
     ]
    }
   ],
   "source": [
    "for idx, eigenvalue in enumerate(eigenvalues):\n",
    "    eigenvectors[:, idx] = eigenvectors[:, idx] / (eigenvalue * np.linalg.norm(eigenvectors[:, idx], ord=2))\n",
    "    new_features_train = np.zeros((len(data), k))\n",
    "    new_features_test = np.zeros((len(test_index), k))\n",
    "for i in range(len(data)):\n",
    "    new_features_train[i] = get_projections(data[i],data, eigenvectors, K)\n",
    "    print(i)\n"
   ]
  },
  {
   "cell_type": "code",
   "execution_count": 559,
   "metadata": {},
   "outputs": [
    {
     "data": {
      "text/plain": [
       "<matplotlib.collections.PathCollection at 0x1a24973860>"
      ]
     },
     "execution_count": 559,
     "metadata": {},
     "output_type": "execute_result"
    },
    {
     "data": {
      "image/png": "[encoded data removed]",
      "text/plain": [
       "<Figure size 432x288 with 1 Axes>"
      ]
     },
     "metadata": {
      "needs_background": "light"
     },
     "output_type": "display_data"
    }
   ],
   "source": [
    "plt.scatter(new_features_train[:,0][0:32],new_features_train[:,1][0:32])\n",
    "plt.scatter(new_features_train[:,0][32:],new_features_train[:,1][32:])"
   ]
  },
  {
   "cell_type": "code",
   "execution_count": 173,
   "metadata": {},
   "outputs": [],
   "source": [
    "a = np.array([[1,2],\n",
    "              [3,4]])"
   ]
  },
  {
   "cell_type": "code",
   "execution_count": 184,
   "metadata": {},
   "outputs": [
    {
     "data": {
      "text/plain": [
       "array([[-2, -1],\n",
       "       [-4, -3]])"
      ]
     },
     "execution_count": 184,
     "metadata": {},
     "output_type": "execute_result"
    }
   ],
   "source": [
    "a - a.sum(axis = 1).reshape(-1,1)"
   ]
  },
  {
   "cell_type": "code",
   "execution_count": 183,
   "metadata": {},
   "outputs": [
    {
     "data": {
      "text/plain": [
       "array([3, 7])"
      ]
     },
     "execution_count": 183,
     "metadata": {},
     "output_type": "execute_result"
    }
   ],
   "source": [
    "a.sum(axis = 1)"
   ]
  },
  {
   "cell_type": "code",
   "execution_count": 192,
   "metadata": {},
   "outputs": [
    {
     "data": {
      "text/plain": [
       "array([-1.47436063e-01, -8.21845858e-02, -5.56562030e-02, -3.80886633e-02,\n",
       "       -2.56728528e-02, -2.02853360e-02, -1.34200601e-02, -1.16024484e-02,\n",
       "       -5.18248851e-03, -4.41513583e-04,  1.63361214e-16,  1.08599752e-03,\n",
       "        4.28119368e-03,  1.07732302e-02,  1.24594916e-02,  1.51887236e-02,\n",
       "        1.67889826e-02,  2.06308933e-02,  2.21868415e-02,  2.64340599e-02,\n",
       "        2.71715928e-02,  3.05251666e-02,  3.44248332e-02,  3.58673772e-02,\n",
       "        3.74415659e-02,  3.90740880e-02,  4.28762274e-02,  4.48023221e-02,\n",
       "        4.74120859e-02,  4.85740867e-02,  5.40444033e-02,  6.15287737e-02,\n",
       "        6.74216848e-02,  6.90229891e-02,  7.25994265e-02,  7.92413251e-02,\n",
       "        8.04426766e-02,  8.28736864e-02,  8.65723016e-02,  8.80199706e-02,\n",
       "        9.60094395e-02,  9.65628614e-02,  1.03639572e-01,  1.08206353e-01,\n",
       "        1.15876007e-01,  1.22652718e-01,  1.34065807e-01,  1.37790190e-01,\n",
       "        1.40170868e-01,  1.43045617e-01,  1.51767684e-01,  1.65679763e-01,\n",
       "        1.68927847e-01,  1.74764569e-01,  1.97260574e-01,  2.02853187e-01,\n",
       "        2.19216924e-01,  2.29982459e-01,  2.34149020e-01,  2.58736655e-01,\n",
       "        2.74524632e-01,  2.81794668e-01,  3.17393288e-01,  3.46839201e-01,\n",
       "        3.95647768e-01,  4.12867308e-01,  4.55393292e-01,  5.96737412e-01,\n",
       "        6.35364874e-01,  7.63204928e-01,  9.22979755e-01,  9.79348022e-01,\n",
       "        1.10414207e+00,  1.78801715e+00,  3.03778801e+00])"
      ]
     },
     "execution_count": 192,
     "metadata": {},
     "output_type": "execute_result"
    }
   ],
   "source": [
    "eigenvalues_1"
   ]
  },
  {
   "cell_type": "code",
   "execution_count": null,
   "metadata": {},
   "outputs": [],
   "source": []
  }
 ],
 "metadata": {
  "kernelspec": {
   "display_name": "Python 3",
   "language": "python",
   "name": "python3"
  },
  "language_info": {
   "codemirror_mode": {
    "name": "ipython",
    "version": 3
   },
   "file_extension": ".py",
   "mimetype": "text/x-python",
   "name": "python",
   "nbconvert_exporter": "python",
   "pygments_lexer": "ipython3",
   "version": "3.6.8"
  }
 },
 "nbformat": 4,
 "nbformat_minor": 2
}
